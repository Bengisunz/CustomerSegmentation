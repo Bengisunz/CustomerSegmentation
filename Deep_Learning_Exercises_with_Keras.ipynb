{
  "nbformat": 4,
  "nbformat_minor": 0,
  "metadata": {
    "colab": {
      "name": "Deep Learning Exercises with Keras.ipynb",
      "version": "0.3.2",
      "provenance": [],
      "include_colab_link": true
    },
    "kernelspec": {
      "name": "python3",
      "display_name": "Python 3"
    },
    "accelerator": "GPU"
  },
  "cells": [
    {
      "cell_type": "markdown",
      "metadata": {
        "id": "view-in-github",
        "colab_type": "text"
      },
      "source": [
        "<a href=\"https://colab.research.google.com/github/Bengisunz/CustomerSegmentation/blob/master/Deep_Learning_Exercises_with_Keras.ipynb\" target=\"_parent\"><img src=\"https://colab.research.google.com/assets/colab-badge.svg\" alt=\"Open In Colab\"/></a>"
      ]
    },
    {
      "cell_type": "markdown",
      "metadata": {
        "id": "1Am0fF07ZvRg",
        "colab_type": "text"
      },
      "source": [
        "# Deep Learning Exercises with Keras"
      ]
    },
    {
      "cell_type": "markdown",
      "metadata": {
        "id": "58J_tccm_ggi",
        "colab_type": "text"
      },
      "source": [
        "# Sentiment Analysis with the IMDB Dataset"
      ]
    },
    {
      "cell_type": "code",
      "metadata": {
        "id": "feEeYyILm5t3",
        "colab_type": "code",
        "colab": {
          "base_uri": "https://localhost:8080/",
          "height": 34
        },
        "outputId": "ecc9ab86-b71b-4e41-f653-d7993a871d2e"
      },
      "source": [
        "# Import the Sequential model and Dense layer\n",
        "from keras.models import Sequential\n",
        "from keras.layers import Dense"
      ],
      "execution_count": 1,
      "outputs": [
        {
          "output_type": "stream",
          "text": [
            "Using TensorFlow backend.\n"
          ],
          "name": "stderr"
        }
      ]
    },
    {
      "cell_type": "code",
      "metadata": {
        "id": "JNJmyK34nUFn",
        "colab_type": "code",
        "colab": {}
      },
      "source": [
        "from keras.datasets import imdb\n"
      ],
      "execution_count": 0,
      "outputs": []
    },
    {
      "cell_type": "code",
      "metadata": {
        "id": "AtYOliMinOI4",
        "colab_type": "code",
        "colab": {}
      },
      "source": [
        "import numpy as np\n",
        "# save np.load\n",
        "np_load_old = np.load\n",
        "\n",
        "# modify the default parameters of np.load\n",
        "np.load = lambda *a,**k: np_load_old(*a, allow_pickle=True, **k)\n",
        "\n",
        "# call load_data with allow_pickle implicitly set to true\n",
        "(train_data, train_labels), (test_data, test_labels) = imdb.load_data(num_words=10000)\n",
        "\n",
        "# restore np.load for future normal usage\n",
        "np.load = np_load_old"
      ],
      "execution_count": 0,
      "outputs": []
    },
    {
      "cell_type": "code",
      "metadata": {
        "id": "S3xmlNJ7nq7q",
        "colab_type": "code",
        "colab": {}
      },
      "source": [
        "train_data[0]"
      ],
      "execution_count": 0,
      "outputs": []
    },
    {
      "cell_type": "markdown",
      "metadata": {
        "id": "qp7PPwSmn75c",
        "colab_type": "text"
      },
      "source": [
        "The variables train_data and test_data are lists of reviews; each review is a list of\n",
        "word indices (encoding a sequence of words). train_labels and test_labels are\n",
        "lists of 0s and 1s, where 0 stands for negative and 1 stands for positive:\n"
      ]
    },
    {
      "cell_type": "code",
      "metadata": {
        "id": "SPbrVBd8nxHX",
        "colab_type": "code",
        "colab": {
          "base_uri": "https://localhost:8080/",
          "height": 34
        },
        "outputId": "d731f288-8a34-4e3e-c78a-a2dbee56b673"
      },
      "source": [
        "train_labels[0]"
      ],
      "execution_count": 20,
      "outputs": [
        {
          "output_type": "execute_result",
          "data": {
            "text/plain": [
              "1"
            ]
          },
          "metadata": {
            "tags": []
          },
          "execution_count": 20
        }
      ]
    },
    {
      "cell_type": "code",
      "metadata": {
        "id": "WssbW5GjoBpI",
        "colab_type": "code",
        "colab": {
          "base_uri": "https://localhost:8080/",
          "height": 34
        },
        "outputId": "2cd1e041-f8ba-4096-dbe6-7c9bc0042db7"
      },
      "source": [
        "max([max(sequence) for sequence in train_data])"
      ],
      "execution_count": 9,
      "outputs": [
        {
          "output_type": "execute_result",
          "data": {
            "text/plain": [
              "9999"
            ]
          },
          "metadata": {
            "tags": []
          },
          "execution_count": 9
        }
      ]
    },
    {
      "cell_type": "markdown",
      "metadata": {
        "id": "n3ge_DFTpY6Y",
        "colab_type": "text"
      },
      "source": [
        "## Preparing the data"
      ]
    },
    {
      "cell_type": "markdown",
      "metadata": {
        "id": "6xhbLUoTnA5y",
        "colab_type": "text"
      },
      "source": [
        "You can’t feed lists of integers into a neural network. You have to turn your lists into\n",
        "tensors. There are two ways to do that:\n",
        "*  Pad your lists so that they all have the same length, turn them into an integer\n",
        "tensor of shape (samples, word_indices), and then use as the first layer in\n",
        "your network a layer capable of handling such integer tensors (the Embedding\n",
        "layer, which we’ll cover in detail later in the book).\n",
        "* One-hot encode your lists to turn them into vectors of 0s and 1s. This would\n",
        "mean, for instance, turning the sequence [3, 5] into a 10,000-dimensional vector\n",
        "that would be all 0s except for indices 3 and 5, which would be 1s. Then you\n",
        "could use as the first layer in your network a Dense layer, capable of handling\n",
        "floating-point vector data.\n",
        "\n",
        "\n",
        "### Encoding the integer sequences into a binary matrix\n"
      ]
    },
    {
      "cell_type": "code",
      "metadata": {
        "id": "uXC-5UAVoRfc",
        "colab_type": "code",
        "colab": {}
      },
      "source": [
        "import numpy as np\n",
        "def vectorize_sequences(sequences, dimension=10000):\n",
        "  results = np.zeros((len(sequences), dimension))    #Creates an all-zero matrix of shape (len(sequences),dimension)\n",
        "  for i, sequence in enumerate(sequences):\n",
        "    results[i, sequence] = 1.                               #Sets specific indices of results[i] to 1s\n",
        "  return results\n",
        "x_train = vectorize_sequences(train_data)\n",
        "x_test = vectorize_sequences(test_data)"
      ],
      "execution_count": 0,
      "outputs": []
    },
    {
      "cell_type": "code",
      "metadata": {
        "id": "qccY3muwpHfE",
        "colab_type": "code",
        "colab": {
          "base_uri": "https://localhost:8080/",
          "height": 34
        },
        "outputId": "4fedccf7-d7ad-462b-eb60-a3bce8a72e0f"
      },
      "source": [
        "x_train[0]"
      ],
      "execution_count": 12,
      "outputs": [
        {
          "output_type": "execute_result",
          "data": {
            "text/plain": [
              "array([0., 1., 1., ..., 0., 0., 0.])"
            ]
          },
          "metadata": {
            "tags": []
          },
          "execution_count": 12
        }
      ]
    },
    {
      "cell_type": "code",
      "metadata": {
        "id": "i2iD8xHypnXy",
        "colab_type": "code",
        "colab": {
          "base_uri": "https://localhost:8080/",
          "height": 34
        },
        "outputId": "6b1f5e04-52ae-4d20-898e-0e4d10bc4145"
      },
      "source": [
        "x_train[1,65]"
      ],
      "execution_count": 19,
      "outputs": [
        {
          "output_type": "execute_result",
          "data": {
            "text/plain": [
              "0.0"
            ]
          },
          "metadata": {
            "tags": []
          },
          "execution_count": 19
        }
      ]
    },
    {
      "cell_type": "code",
      "metadata": {
        "id": "7jMR847XpRUI",
        "colab_type": "code",
        "colab": {}
      },
      "source": [
        "y_train = np.asarray(train_labels).astype('float32')\n",
        "y_test = np.asarray(test_labels).astype('float32')"
      ],
      "execution_count": 0,
      "outputs": []
    },
    {
      "cell_type": "markdown",
      "metadata": {
        "id": "ZLX30Ks_pfJl",
        "colab_type": "text"
      },
      "source": [
        "## Building the network"
      ]
    },
    {
      "cell_type": "markdown",
      "metadata": {
        "id": "Rg30xuVyqrNh",
        "colab_type": "text"
      },
      "source": [
        "The argument being passed to each Dense layer (16) is the number of hidden\n",
        "units of the layer. A hidden unit is a dimension in the representation space of the layer.\n",
        "You may remember from chapter 2 that each such Dense layer with a relu activation\n",
        "implements the following chain of tensor operations:\n",
        "output = relu(dot(W, input) + b)\n",
        "Having 16 hidden units means the weight matrix W will have shape (input_dimension,\n",
        "16): the dot product with W will project the input data onto a 16-dimensional representation\n",
        "space (and then you’ll add the bias vector b and apply the relu operation)."
      ]
    },
    {
      "cell_type": "code",
      "metadata": {
        "id": "F0VxNzH6rRcM",
        "colab_type": "code",
        "colab": {
          "base_uri": "https://localhost:8080/",
          "height": 156
        },
        "outputId": "953da8ae-4075-493d-e25e-92d6f74cd71c"
      },
      "source": [
        "\n",
        "model = models.Sequential()\n",
        "model.add(layers.Dense(16, activation='relu', input_shape=(10000,)))\n",
        "model.add(layers.Dense(16, activation='relu'))\n",
        "model.add(layers.Dense(1, activation='sigmoid'))"
      ],
      "execution_count": 21,
      "outputs": [
        {
          "output_type": "stream",
          "text": [
            "WARNING: Logging before flag parsing goes to stderr.\n",
            "W0817 13:03:42.521335 140602795767680 deprecation_wrapper.py:119] From /usr/local/lib/python3.6/dist-packages/keras/backend/tensorflow_backend.py:74: The name tf.get_default_graph is deprecated. Please use tf.compat.v1.get_default_graph instead.\n",
            "\n",
            "W0817 13:03:42.564189 140602795767680 deprecation_wrapper.py:119] From /usr/local/lib/python3.6/dist-packages/keras/backend/tensorflow_backend.py:517: The name tf.placeholder is deprecated. Please use tf.compat.v1.placeholder instead.\n",
            "\n",
            "W0817 13:03:42.598220 140602795767680 deprecation_wrapper.py:119] From /usr/local/lib/python3.6/dist-packages/keras/backend/tensorflow_backend.py:4138: The name tf.random_uniform is deprecated. Please use tf.random.uniform instead.\n",
            "\n"
          ],
          "name": "stderr"
        }
      ]
    },
    {
      "cell_type": "markdown",
      "metadata": {
        "id": "QKsnTalG5fS_",
        "colab_type": "text"
      },
      "source": [
        "Configuring the optimizer"
      ]
    },
    {
      "cell_type": "code",
      "metadata": {
        "id": "SxODOwIIqsQL",
        "colab_type": "code",
        "colab": {
          "base_uri": "https://localhost:8080/",
          "height": 156
        },
        "outputId": "dc376573-18fe-4ce8-ca3e-5dc912a467b8"
      },
      "source": [
        "from keras import optimizers\n",
        "\n",
        "model.compile(optimizer=optimizers.RMSprop(lr=0.001),\n",
        "loss='binary_crossentropy',\n",
        "metrics=['accuracy'])"
      ],
      "execution_count": 22,
      "outputs": [
        {
          "output_type": "stream",
          "text": [
            "W0817 14:13:41.788842 140602795767680 deprecation_wrapper.py:119] From /usr/local/lib/python3.6/dist-packages/keras/optimizers.py:790: The name tf.train.Optimizer is deprecated. Please use tf.compat.v1.train.Optimizer instead.\n",
            "\n",
            "W0817 14:13:41.796301 140602795767680 deprecation_wrapper.py:119] From /usr/local/lib/python3.6/dist-packages/keras/backend/tensorflow_backend.py:3376: The name tf.log is deprecated. Please use tf.math.log instead.\n",
            "\n",
            "W0817 14:13:41.802436 140602795767680 deprecation.py:323] From /usr/local/lib/python3.6/dist-packages/tensorflow/python/ops/nn_impl.py:180: add_dispatch_support.<locals>.wrapper (from tensorflow.python.ops.array_ops) is deprecated and will be removed in a future version.\n",
            "Instructions for updating:\n",
            "Use tf.where in 2.0, which has the same broadcast rule as np.where\n"
          ],
          "name": "stderr"
        }
      ]
    },
    {
      "cell_type": "markdown",
      "metadata": {
        "id": "wXLCqTlV5bvg",
        "colab_type": "text"
      },
      "source": [
        "Using custom losses and metrics\n"
      ]
    },
    {
      "cell_type": "code",
      "metadata": {
        "id": "R6aXgWP95V6_",
        "colab_type": "code",
        "colab": {}
      },
      "source": [
        "from keras import losses\n",
        "from keras import metrics\n",
        "\n",
        "model.compile(optimizer=optimizers.RMSprop(lr=0.001),\n",
        "loss=losses.binary_crossentropy,\n",
        "metrics=[metrics.binary_accuracy])"
      ],
      "execution_count": 0,
      "outputs": []
    },
    {
      "cell_type": "markdown",
      "metadata": {
        "id": "4ggnnPAX7bm-",
        "colab_type": "text"
      },
      "source": [
        "Setting aside a validation set"
      ]
    },
    {
      "cell_type": "code",
      "metadata": {
        "id": "WDXLCMq_7dnD",
        "colab_type": "code",
        "colab": {}
      },
      "source": [
        "x_val = x_train[:10000]\n",
        "partial_x_train = x_train[10000:]\n",
        "\n",
        "y_val = y_train[:10000]\n",
        "partial_y_train = y_train[10000:]"
      ],
      "execution_count": 0,
      "outputs": []
    },
    {
      "cell_type": "markdown",
      "metadata": {
        "id": "2DqDy_m47mQL",
        "colab_type": "text"
      },
      "source": [
        "**Training your model**"
      ]
    },
    {
      "cell_type": "code",
      "metadata": {
        "id": "4CO2sG587nqq",
        "colab_type": "code",
        "colab": {
          "base_uri": "https://localhost:8080/",
          "height": 768
        },
        "outputId": "cec21838-4abc-495f-c093-833538227ce7"
      },
      "source": [
        "model.compile(optimizer='rmsprop', loss='binary_crossentropy',metrics=['acc'])\n",
        "\n",
        "\n",
        "history = model.fit(partial_x_train, partial_y_train, epochs=20, batch_size=512,\n",
        "validation_data=(x_val, y_val))"
      ],
      "execution_count": 25,
      "outputs": [
        {
          "output_type": "stream",
          "text": [
            "W0817 14:15:20.130587 140602795767680 deprecation_wrapper.py:119] From /usr/local/lib/python3.6/dist-packages/keras/backend/tensorflow_backend.py:986: The name tf.assign_add is deprecated. Please use tf.compat.v1.assign_add instead.\n",
            "\n"
          ],
          "name": "stderr"
        },
        {
          "output_type": "stream",
          "text": [
            "Train on 15000 samples, validate on 10000 samples\n",
            "Epoch 1/20\n",
            "15000/15000 [==============================] - 6s 379us/step - loss: 0.5084 - acc: 0.7813 - val_loss: 0.3797 - val_acc: 0.8684\n",
            "Epoch 2/20\n",
            "15000/15000 [==============================] - 1s 98us/step - loss: 0.3004 - acc: 0.9047 - val_loss: 0.3004 - val_acc: 0.8897\n",
            "Epoch 3/20\n",
            "15000/15000 [==============================] - 1s 88us/step - loss: 0.2179 - acc: 0.9285 - val_loss: 0.3085 - val_acc: 0.8711\n",
            "Epoch 4/20\n",
            "15000/15000 [==============================] - 1s 89us/step - loss: 0.1750 - acc: 0.9437 - val_loss: 0.2840 - val_acc: 0.8832\n",
            "Epoch 5/20\n",
            "15000/15000 [==============================] - 1s 87us/step - loss: 0.1427 - acc: 0.9543 - val_loss: 0.2841 - val_acc: 0.8872\n",
            "Epoch 6/20\n",
            "15000/15000 [==============================] - 1s 90us/step - loss: 0.1150 - acc: 0.9650 - val_loss: 0.3166 - val_acc: 0.8772\n",
            "Epoch 7/20\n",
            "15000/15000 [==============================] - 1s 89us/step - loss: 0.0980 - acc: 0.9705 - val_loss: 0.3127 - val_acc: 0.8846\n",
            "Epoch 8/20\n",
            "15000/15000 [==============================] - 1s 90us/step - loss: 0.0807 - acc: 0.9763 - val_loss: 0.3859 - val_acc: 0.8649\n",
            "Epoch 9/20\n",
            "15000/15000 [==============================] - 1s 89us/step - loss: 0.0661 - acc: 0.9821 - val_loss: 0.3635 - val_acc: 0.8782\n",
            "Epoch 10/20\n",
            "15000/15000 [==============================] - 1s 88us/step - loss: 0.0561 - acc: 0.9853 - val_loss: 0.3842 - val_acc: 0.8792\n",
            "Epoch 11/20\n",
            "15000/15000 [==============================] - 1s 89us/step - loss: 0.0439 - acc: 0.9893 - val_loss: 0.4153 - val_acc: 0.8779\n",
            "Epoch 12/20\n",
            "15000/15000 [==============================] - 1s 89us/step - loss: 0.0381 - acc: 0.9921 - val_loss: 0.4526 - val_acc: 0.8690\n",
            "Epoch 13/20\n",
            "15000/15000 [==============================] - 1s 89us/step - loss: 0.0300 - acc: 0.9928 - val_loss: 0.4698 - val_acc: 0.8729\n",
            "Epoch 14/20\n",
            "15000/15000 [==============================] - 1s 88us/step - loss: 0.0247 - acc: 0.9945 - val_loss: 0.5023 - val_acc: 0.8726\n",
            "Epoch 15/20\n",
            "15000/15000 [==============================] - 1s 88us/step - loss: 0.0175 - acc: 0.9979 - val_loss: 0.5341 - val_acc: 0.8693\n",
            "Epoch 16/20\n",
            "15000/15000 [==============================] - 1s 89us/step - loss: 0.0149 - acc: 0.9983 - val_loss: 0.5711 - val_acc: 0.8699\n",
            "Epoch 17/20\n",
            "15000/15000 [==============================] - 1s 87us/step - loss: 0.0151 - acc: 0.9971 - val_loss: 0.6025 - val_acc: 0.8697\n",
            "Epoch 18/20\n",
            "15000/15000 [==============================] - 1s 88us/step - loss: 0.0075 - acc: 0.9996 - val_loss: 0.6822 - val_acc: 0.8632\n",
            "Epoch 19/20\n",
            "15000/15000 [==============================] - 1s 88us/step - loss: 0.0121 - acc: 0.9971 - val_loss: 0.6771 - val_acc: 0.8651\n",
            "Epoch 20/20\n",
            "15000/15000 [==============================] - 1s 88us/step - loss: 0.0041 - acc: 0.9999 - val_loss: 0.6899 - val_acc: 0.8657\n"
          ],
          "name": "stdout"
        }
      ]
    },
    {
      "cell_type": "code",
      "metadata": {
        "id": "9a7y0BYn786E",
        "colab_type": "code",
        "colab": {
          "base_uri": "https://localhost:8080/",
          "height": 34
        },
        "outputId": "870ece2a-a1d6-4fa4-ae10-bc7bc47261a3"
      },
      "source": [
        "history_dict = history.history\n",
        "history_dict.keys()"
      ],
      "execution_count": 26,
      "outputs": [
        {
          "output_type": "execute_result",
          "data": {
            "text/plain": [
              "dict_keys(['val_loss', 'val_acc', 'loss', 'acc'])"
            ]
          },
          "metadata": {
            "tags": []
          },
          "execution_count": 26
        }
      ]
    },
    {
      "cell_type": "markdown",
      "metadata": {
        "id": "kejg8oER9tf4",
        "colab_type": "text"
      },
      "source": [
        "Plotting the training and validation **loss**"
      ]
    },
    {
      "cell_type": "code",
      "metadata": {
        "id": "-iS2A0zk8OBa",
        "colab_type": "code",
        "colab": {
          "base_uri": "https://localhost:8080/",
          "height": 295
        },
        "outputId": "32e21785-bcb2-4042-d445-1fa9c9b33274"
      },
      "source": [
        "import matplotlib.pyplot as plt\n",
        "\n",
        "history_dict = history.history\n",
        "loss_values = history_dict['loss']\n",
        "val_loss_values = history_dict['val_loss']\n",
        "\n",
        "acc=history_dict['acc']\n",
        "\n",
        "epochs = range(1, len(acc) + 1)\n",
        "\n",
        "plt.plot(epochs, loss_values, 'bo', label='Training loss')\n",
        "plt.plot(epochs, val_loss_values, 'b', label='Validation loss')\n",
        "plt.title('Training and validation loss')\n",
        "plt.xlabel('Epochs')\n",
        "plt.ylabel('Loss')\n",
        "plt.legend()\n",
        "plt.show()"
      ],
      "execution_count": 30,
      "outputs": [
        {
          "output_type": "display_data",
          "data": {
            "image/png": "[encoded data removed]",
            "text/plain": [
              "<Figure size 432x288 with 1 Axes>"
            ]
          },
          "metadata": {
            "tags": []
          }
        }
      ]
    },
    {
      "cell_type": "markdown",
      "metadata": {
        "id": "vo7T59Aj-J-F",
        "colab_type": "text"
      },
      "source": [
        "They seem to\n",
        "peak at the fourth epoch. This is an example of what we warned against earlier: a\n",
        "model that performs better on the training data isn’t necessarily a model that will do\n",
        "better on data it has never seen before. In precise terms, what you’re seeing is overfitting:\n",
        "after the second epoch, you’re overoptimizing on the training data, and you end\n",
        "up learning representations that are specific to the training data and don’t generalize\n",
        "to data outside of the training set.\n",
        "\n",
        "\n",
        "\n",
        ">In this case, to prevent overfitting, you could stop training after three epochs"
      ]
    },
    {
      "cell_type": "markdown",
      "metadata": {
        "id": "s2vrUBHP9bbe",
        "colab_type": "text"
      },
      "source": [
        "Plotting the training and validation **accuracy**"
      ]
    },
    {
      "cell_type": "code",
      "metadata": {
        "id": "GSql9tSC9TvX",
        "colab_type": "code",
        "colab": {
          "base_uri": "https://localhost:8080/",
          "height": 295
        },
        "outputId": "1a53b583-bd7d-4b5f-a37a-1565dee826b8"
      },
      "source": [
        "plt.clf()      #Clears the figure\n",
        "acc_values = history_dict['acc']\n",
        "val_acc_values = history_dict['val_acc']\n",
        "\n",
        "\n",
        "plt.plot(epochs, acc, 'bo', label='Training acc')\n",
        "plt.plot(epochs, val_acc_values, 'b', label='Validation acc')\n",
        "plt.title('Training and validation accuracy')\n",
        "plt.xlabel('Epochs')\n",
        "plt.ylabel('Loss')\n",
        "plt.legend()\n",
        "plt.show()"
      ],
      "execution_count": 32,
      "outputs": [
        {
          "output_type": "display_data",
          "data": {
            "image/png": "[encoded data removed]",
            "text/plain": [
              "<Figure size 432x288 with 1 Axes>"
            ]
          },
          "metadata": {
            "tags": []
          }
        }
      ]
    },
    {
      "cell_type": "markdown",
      "metadata": {
        "id": "4-JC1E0R-ds3",
        "colab_type": "text"
      },
      "source": [
        "Retraining a model from scratch"
      ]
    },
    {
      "cell_type": "code",
      "metadata": {
        "id": "5ZiDEAND-a84",
        "colab_type": "code",
        "colab": {
          "base_uri": "https://localhost:8080/",
          "height": 170
        },
        "outputId": "12f6164d-9a53-4c03-bcc7-3613f5d7e002"
      },
      "source": [
        "model = models.Sequential()\n",
        "model.add(layers.Dense(16, activation='relu', input_shape=(10000,)))\n",
        "model.add(layers.Dense(16, activation='relu'))\n",
        "model.add(layers.Dense(1, activation='sigmoid'))\n",
        "\n",
        "model.compile(optimizer='rmsprop',loss='binary_crossentropy',metrics=['accuracy'])\n",
        "\n",
        "model.fit(x_train, y_train, epochs=4, batch_size=512)\n",
        "\n",
        "results = model.evaluate(x_test, y_test)"
      ],
      "execution_count": 33,
      "outputs": [
        {
          "output_type": "stream",
          "text": [
            "Epoch 1/4\n",
            "25000/25000 [==============================] - 2s 70us/step - loss: 0.4749 - acc: 0.8217\n",
            "Epoch 2/4\n",
            "25000/25000 [==============================] - 1s 58us/step - loss: 0.2666 - acc: 0.9096\n",
            "Epoch 3/4\n",
            "25000/25000 [==============================] - 1s 55us/step - loss: 0.1987 - acc: 0.9292\n",
            "Epoch 4/4\n",
            "25000/25000 [==============================] - 1s 54us/step - loss: 0.1679 - acc: 0.9402\n",
            "25000/25000 [==============================] - 2s 79us/step\n"
          ],
          "name": "stdout"
        }
      ]
    },
    {
      "cell_type": "code",
      "metadata": {
        "id": "fy1gPRdU-l4o",
        "colab_type": "code",
        "colab": {
          "base_uri": "https://localhost:8080/",
          "height": 34
        },
        "outputId": "bf57dc42-a867-43fe-a231-e5fcbe4f3f47"
      },
      "source": [
        "results"
      ],
      "execution_count": 34,
      "outputs": [
        {
          "output_type": "execute_result",
          "data": {
            "text/plain": [
              "[0.32385600566864015, 0.87308]"
            ]
          },
          "metadata": {
            "tags": []
          },
          "execution_count": 34
        }
      ]
    },
    {
      "cell_type": "markdown",
      "metadata": {
        "id": "htAaqhRp-yXH",
        "colab_type": "text"
      },
      "source": [
        "**Using a trained network to generate predictions on new data**"
      ]
    },
    {
      "cell_type": "code",
      "metadata": {
        "id": "bPRuqVNc-wP-",
        "colab_type": "code",
        "colab": {
          "base_uri": "https://localhost:8080/",
          "height": 136
        },
        "outputId": "48b3b06d-0dea-491e-c472-c89fced16c17"
      },
      "source": [
        "model.predict(x_test)"
      ],
      "execution_count": 35,
      "outputs": [
        {
          "output_type": "execute_result",
          "data": {
            "text/plain": [
              "array([[0.13560072],\n",
              "       [0.99971175],\n",
              "       [0.2781635 ],\n",
              "       ...,\n",
              "       [0.07139972],\n",
              "       [0.04283795],\n",
              "       [0.47383913]], dtype=float32)"
            ]
          },
          "metadata": {
            "tags": []
          },
          "execution_count": 35
        }
      ]
    },
    {
      "cell_type": "markdown",
      "metadata": {
        "id": "vYVCB2Tn_p8L",
        "colab_type": "text"
      },
      "source": [
        "# Regression with The Boston Housing Price Dataset"
      ]
    },
    {
      "cell_type": "markdown",
      "metadata": {
        "id": "-3c9xZ3gAE8u",
        "colab_type": "text"
      },
      "source": [
        "It has relatively few data points: only 506, split\n",
        "between 404 training samples and 102 test samples. And each feature in the input data\n",
        "(for example, the crime rate) has a different scale. For instance, some values are proportions,\n",
        "which take values between 0 and 1; others take values between 1 and 12, others\n",
        "between 0 and 100, and so on ➥"
      ]
    },
    {
      "cell_type": "code",
      "metadata": {
        "id": "Bf84P4no_4Gb",
        "colab_type": "code",
        "colab": {}
      },
      "source": [
        "from keras.datasets import boston_housing\n",
        "(train_data, train_targets), (test_data, test_targets) = boston_housing.load_data()"
      ],
      "execution_count": 0,
      "outputs": []
    },
    {
      "cell_type": "code",
      "metadata": {
        "id": "1OxVxo30AUeP",
        "colab_type": "code",
        "colab": {
          "base_uri": "https://localhost:8080/",
          "height": 34
        },
        "outputId": "bea1567f-19aa-4683-cb86-baccac170157"
      },
      "source": [
        "train_data.shape"
      ],
      "execution_count": 37,
      "outputs": [
        {
          "output_type": "execute_result",
          "data": {
            "text/plain": [
              "(404, 13)"
            ]
          },
          "metadata": {
            "tags": []
          },
          "execution_count": 37
        }
      ]
    },
    {
      "cell_type": "code",
      "metadata": {
        "id": "doEUKBKkAdwW",
        "colab_type": "code",
        "colab": {
          "base_uri": "https://localhost:8080/",
          "height": 34
        },
        "outputId": "9c7cd909-258a-4aaf-ab05-25ab4429db95"
      },
      "source": [
        "test_data.shape"
      ],
      "execution_count": 38,
      "outputs": [
        {
          "output_type": "execute_result",
          "data": {
            "text/plain": [
              "(102, 13)"
            ]
          },
          "metadata": {
            "tags": []
          },
          "execution_count": 38
        }
      ]
    },
    {
      "cell_type": "markdown",
      "metadata": {
        "id": "Ed7zW1p7BOFr",
        "colab_type": "text"
      },
      "source": [
        "404 training samples and 102 test samples, each with 13\n",
        "numerical features"
      ]
    },
    {
      "cell_type": "code",
      "metadata": {
        "id": "I2i29X2QBR89",
        "colab_type": "code",
        "colab": {
          "base_uri": "https://localhost:8080/",
          "height": 34
        },
        "outputId": "f98dc32f-95e7-491f-969f-6ba31f1ca780"
      },
      "source": [
        "train_targets[1:10]"
      ],
      "execution_count": 42,
      "outputs": [
        {
          "output_type": "execute_result",
          "data": {
            "text/plain": [
              "array([42.3, 50. , 21.1, 17.7, 18.5, 11.3, 15.6, 15.6, 14.4])"
            ]
          },
          "metadata": {
            "tags": []
          },
          "execution_count": 42
        }
      ]
    },
    {
      "cell_type": "markdown",
      "metadata": {
        "id": "KiSz8Cx8Bd6q",
        "colab_type": "text"
      },
      "source": [
        "## Preparing the data"
      ]
    },
    {
      "cell_type": "markdown",
      "metadata": {
        "id": "l0R9QfAoBoDG",
        "colab_type": "text"
      },
      "source": [
        "Normalizing the data"
      ]
    },
    {
      "cell_type": "code",
      "metadata": {
        "id": "qNFMeA8GBpMt",
        "colab_type": "code",
        "colab": {}
      },
      "source": [
        "mean = train_data.mean(axis=0)\n",
        "train_data -= mean\n",
        "\n",
        "std = train_data.std(axis=0)\n",
        "train_data /= std\n",
        "\n",
        "test_data -= mean\n",
        "test_data /= std"
      ],
      "execution_count": 0,
      "outputs": []
    },
    {
      "cell_type": "code",
      "metadata": {
        "id": "ET1Q-o7gB5tS",
        "colab_type": "code",
        "colab": {
          "base_uri": "https://localhost:8080/",
          "height": 85
        },
        "outputId": "ccd0c6eb-9eac-4955-9ebb-42a30d675f27"
      },
      "source": [
        "mean"
      ],
      "execution_count": 45,
      "outputs": [
        {
          "output_type": "execute_result",
          "data": {
            "text/plain": [
              "array([-1.01541438e-16,  1.09923072e-17,  1.80933376e-15, -7.80453809e-17,\n",
              "       -5.25047552e-15,  6.43187374e-15,  2.98441140e-16,  4.94653823e-16,\n",
              "        1.12671149e-17, -1.05526149e-16,  2.36614908e-14,  5.96710525e-15,\n",
              "        6.13920356e-16])"
            ]
          },
          "metadata": {
            "tags": []
          },
          "execution_count": 45
        }
      ]
    },
    {
      "cell_type": "markdown",
      "metadata": {
        "id": "5HsnBVnCCKEp",
        "colab_type": "text"
      },
      "source": [
        "Note that the quantities used for normalizing the test data are computed using the\n",
        "training data. You should never use in your workflow any quantity computed on the\n",
        "test data, even for something as simple as data normalization."
      ]
    },
    {
      "cell_type": "markdown",
      "metadata": {
        "id": "GdvThvEvCMH2",
        "colab_type": "text"
      },
      "source": [
        "**Building the network**"
      ]
    },
    {
      "cell_type": "code",
      "metadata": {
        "id": "oaSPKKJMCjor",
        "colab_type": "code",
        "colab": {
          "base_uri": "https://localhost:8080/",
          "height": 34
        },
        "outputId": "067b044f-af5a-4b65-95da-f95c43c3b75d"
      },
      "source": [
        ""
      ],
      "execution_count": 48,
      "outputs": [
        {
          "output_type": "execute_result",
          "data": {
            "text/plain": [
              "(404, 13)"
            ]
          },
          "metadata": {
            "tags": []
          },
          "execution_count": 48
        }
      ]
    },
    {
      "cell_type": "code",
      "metadata": {
        "id": "vngdMLiJCVqy",
        "colab_type": "code",
        "colab": {}
      },
      "source": [
        "from keras import models\n",
        "from keras import layers\n",
        "\n",
        "\n",
        "def build_model():\n",
        "  model = models.Sequential()\n",
        "  model.add(layers.Dense(64, activation='relu',\n",
        "  input_shape=(train_data.shape[1],)))  #taking number of columns\n",
        "  model.add(layers.Dense(64, activation='relu'))\n",
        "  model.add(layers.Dense(1))\n",
        "  model.compile(optimizer='rmsprop', loss='mse', metrics=['mae'])\n",
        "  return model"
      ],
      "execution_count": 0,
      "outputs": []
    },
    {
      "cell_type": "markdown",
      "metadata": {
        "id": "gBL1o2ikDNFB",
        "colab_type": "text"
      },
      "source": [
        "\n",
        "**Validating your approach using K-fold validation**\n",
        "\n",
        "To evaluate your network while you keep adjusting its parameters (such as the number\n",
        "of epochs used for training), you could split the data into a training set and a validation\n",
        "set, as you did in the previous examples. But because you have so few data points,\n",
        "the validation set would end up being very small (for instance, about 100 examples).\n",
        "\n",
        "\n",
        "As a consequence, the validation scores might change a lot depending on which data\n",
        "points you chose to use for validation and which you chose for training: the validation\n",
        "scores might have *a high variance* with regard to the validation split. This would prevent\n",
        "you from reliably evaluating your model."
      ]
    },
    {
      "cell_type": "code",
      "metadata": {
        "id": "i5aTa1fbCsfj",
        "colab_type": "code",
        "colab": {}
      },
      "source": [
        "import numpy as np\n",
        "k = 4\n",
        "num_val_samples = len(train_data) // k\n",
        "num_epochs = 100\n",
        "all_scores = []"
      ],
      "execution_count": 0,
      "outputs": []
    },
    {
      "cell_type": "code",
      "metadata": {
        "id": "fXVVe7qEEAbo",
        "colab_type": "code",
        "colab": {
          "base_uri": "https://localhost:8080/",
          "height": 85
        },
        "outputId": "4f7198f1-55d0-4713-ead6-e5990f7e3e0d"
      },
      "source": [
        "for i in range(k):\n",
        "  print('processing fold #', i)\n",
        "  val_data = train_data[i * num_val_samples: (i + 1) * num_val_samples]\n",
        "  val_targets = train_targets[i * num_val_samples: (i + 1) * num_val_samples]\n",
        "  partial_train_data = np.concatenate(\n",
        "  [train_data[:i * num_val_samples],\n",
        "  train_data[(i + 1) * num_val_samples:]],\n",
        "  axis=0)\n",
        "  partial_train_targets = np.concatenate(\n",
        "  [train_targets[:i * num_val_samples],\n",
        "  train_targets[(i + 1) * num_val_samples:]],\n",
        "  axis=0)\n",
        "  model = build_model()\n",
        "  model.fit(partial_train_data, partial_train_targets,\n",
        "  epochs=num_epochs, batch_size=1, verbose=0)\n",
        "  val_mse, val_mae = model.evaluate(val_data, val_targets, verbose=0)\n",
        "  all_scores.append(val_mae)"
      ],
      "execution_count": 59,
      "outputs": [
        {
          "output_type": "stream",
          "text": [
            "processing fold # 0\n",
            "processing fold # 1\n",
            "processing fold # 2\n",
            "processing fold # 3\n"
          ],
          "name": "stdout"
        }
      ]
    },
    {
      "cell_type": "code",
      "metadata": {
        "id": "G1n-oaiWEK1d",
        "colab_type": "code",
        "colab": {
          "base_uri": "https://localhost:8080/",
          "height": 34
        },
        "outputId": "56b8d060-26df-459a-9701-a9ce8bdde277"
      },
      "source": [
        "all_scores\n",
        "\n",
        "np.mean(all_scores)"
      ],
      "execution_count": 60,
      "outputs": [
        {
          "output_type": "execute_result",
          "data": {
            "text/plain": [
              "2.395399522515807"
            ]
          },
          "metadata": {
            "tags": []
          },
          "execution_count": 60
        }
      ]
    },
    {
      "cell_type": "markdown",
      "metadata": {
        "id": "riAFR9TgFOpd",
        "colab_type": "text"
      },
      "source": [
        "Epoch = 500"
      ]
    },
    {
      "cell_type": "code",
      "metadata": {
        "id": "-_sciKWJFSw8",
        "colab_type": "code",
        "colab": {
          "base_uri": "https://localhost:8080/",
          "height": 85
        },
        "outputId": "57f90cba-658e-4f83-ab83-997227f4f19a"
      },
      "source": [
        "num_epochs = 500\n",
        "all_mae_histories = []\n",
        "\n",
        "for i in range(k):\n",
        "  print('processing fold #', i)\n",
        "  val_data = train_data[i * num_val_samples: (i + 1) * num_val_samples]\n",
        "  val_targets = train_targets[i * num_val_samples: (i + 1) * num_val_samples]\n",
        "  \n",
        "  partial_train_data = np.concatenate([train_data[:i * num_val_samples],\n",
        "  train_data[(i + 1) * num_val_samples:]],\n",
        "  axis=0)\n",
        "  \n",
        "  partial_train_targets = np.concatenate([train_targets[:i * num_val_samples],   #Prepares the training data: data from all other partitions\n",
        "  train_targets[(i + 1) * num_val_samples:]],\n",
        "  axis=0)\n",
        "  model = build_model()\n",
        "  \n",
        "  history = model.fit(partial_train_data, partial_train_targets,   #Trains the model (in silent mode, verbose=0)\n",
        "  validation_data=(val_data, val_targets),\n",
        "  epochs=num_epochs, batch_size=1, verbose=0)\n",
        "  \n",
        "  mae_history = history.history['val_mean_absolute_error']\n",
        "  all_mae_histories.append(mae_history)"
      ],
      "execution_count": 61,
      "outputs": [
        {
          "output_type": "stream",
          "text": [
            "processing fold # 0\n",
            "processing fold # 1\n",
            "processing fold # 2\n",
            "processing fold # 3\n"
          ],
          "name": "stdout"
        }
      ]
    },
    {
      "cell_type": "code",
      "metadata": {
        "id": "SHR_D1hVFtQ8",
        "colab_type": "code",
        "colab": {}
      },
      "source": [
        "average_mae_history = [np.mean([x[i] for x in all_mae_histories]) for i in range(num_epochs)]"
      ],
      "execution_count": 0,
      "outputs": []
    },
    {
      "cell_type": "code",
      "metadata": {
        "id": "oaIPlFQ7F-ZR",
        "colab_type": "code",
        "colab": {
          "base_uri": "https://localhost:8080/",
          "height": 283
        },
        "outputId": "b88153f4-7b54-4c3c-b8bc-59a8159b5c42"
      },
      "source": [
        "import matplotlib.pyplot as plt\n",
        "plt.plot(range(1, len(average_mae_history) + 1), average_mae_history)\n",
        "plt.xlabel('Epochs')\n",
        "plt.ylabel('Validation MAE')\n",
        "plt.show()"
      ],
      "execution_count": 63,
      "outputs": [
        {
          "output_type": "display_data",
          "data": {
            "image/png": "[encoded data removed]",
            "text/plain": [
              "<Figure size 432x288 with 1 Axes>"
            ]
          },
          "metadata": {
            "tags": []
          }
        }
      ]
    },
    {
      "cell_type": "markdown",
      "metadata": {
        "id": "cAp2SkMxGEPy",
        "colab_type": "text"
      },
      "source": [
        "It may be a little difficult to see the plot, due to scaling issues and relatively high variance.\n",
        "Let’s do the following:\n",
        "\n",
        "* Omit the first 10 data points, which are on a different scale than the rest of the curve.\n",
        "* Replace each point with an exponential moving average of the previous points,\n",
        "to obtain a smooth curve."
      ]
    },
    {
      "cell_type": "markdown",
      "metadata": {
        "id": "WIqBVVI6JxR0",
        "colab_type": "text"
      },
      "source": [
        "Plotting validation scores, excluding the first 10 data points"
      ]
    },
    {
      "cell_type": "code",
      "metadata": {
        "id": "gJBjTWkbGKGI",
        "colab_type": "code",
        "colab": {
          "base_uri": "https://localhost:8080/",
          "height": 283
        },
        "outputId": "9addd1b4-b4de-4df8-e3e3-e2573040b415"
      },
      "source": [
        "def smooth_curve(points, factor=0.9):\n",
        "  smoothed_points = []\n",
        "  for point in points:\n",
        "    if smoothed_points:\n",
        "      previous = smoothed_points[-1]\n",
        "      smoothed_points.append(previous * factor + point * (1 - factor))\n",
        "    else:\n",
        "      smoothed_points.append(point)\n",
        "  return smoothed_points\n",
        "\n",
        "\n",
        "\n",
        "smooth_mae_history = smooth_curve(average_mae_history[10:])\n",
        "\n",
        "\n",
        "plt.plot(range(1, len(smooth_mae_history) + 1), smooth_mae_history)\n",
        "plt.xlabel('Epochs')\n",
        "plt.ylabel('Validation MAE')\n",
        "plt.show()"
      ],
      "execution_count": 64,
      "outputs": [
        {
          "output_type": "display_data",
          "data": {
            "image/png": "[encoded data removed]",
            "text/plain": [
              "<Figure size 432x288 with 1 Axes>"
            ]
          },
          "metadata": {
            "tags": []
          }
        }
      ]
    },
    {
      "cell_type": "markdown",
      "metadata": {
        "id": "IrjZt_UKJ16W",
        "colab_type": "text"
      },
      "source": [
        "According to this plot, validation MAE stops improving significantly after 80 epochs.\n",
        "Past that point, you start overfitting."
      ]
    },
    {
      "cell_type": "markdown",
      "metadata": {
        "id": "5TgC1SShKDNg",
        "colab_type": "text"
      },
      "source": [
        "**Training the final model**"
      ]
    },
    {
      "cell_type": "code",
      "metadata": {
        "id": "ucEM5RlpKD92",
        "colab_type": "code",
        "colab": {
          "base_uri": "https://localhost:8080/",
          "height": 129
        },
        "outputId": "723de79b-1495-4f34-9fdd-1f6621a04a50"
      },
      "source": [
        "model = build_model()\n",
        "model.fit(train_data, train_targets,\n",
        "epochs=80, batch_size=16, verbose=0)\n",
        "test_mse_score, test_mae_score = model.evaluate(test_data, test_targets"
      ],
      "execution_count": 65,
      "outputs": [
        {
          "output_type": "error",
          "ename": "SyntaxError",
          "evalue": "ignored",
          "traceback": [
            "\u001b[0;36m  File \u001b[0;32m\"<ipython-input-65-4ab3b08aeb59>\"\u001b[0;36m, line \u001b[0;32m4\u001b[0m\n\u001b[0;31m    test_mse_score, test_mae_score = model.evaluate(test_data, test_targets\u001b[0m\n\u001b[0m                                                                           ^\u001b[0m\n\u001b[0;31mSyntaxError\u001b[0m\u001b[0;31m:\u001b[0m unexpected EOF while parsing\n"
          ]
        }
      ]
    },
    {
      "cell_type": "code",
      "metadata": {
        "id": "xR4tBLpWKKQf",
        "colab_type": "code",
        "colab": {}
      },
      "source": [
        "test_mae_score"
      ],
      "execution_count": 0,
      "outputs": []
    },
    {
      "cell_type": "markdown",
      "metadata": {
        "id": "gcSCjbHpZnc6",
        "colab_type": "text"
      },
      "source": [
        "NOTES"
      ]
    },
    {
      "cell_type": "markdown",
      "metadata": {
        "id": "OOnB4UMRSud2",
        "colab_type": "text"
      },
      "source": [
        "Batch Gradient Descent. Batch Size = Size of Training Set\n",
        "\n",
        "\n",
        "Stochastic Gradient Descent. Batch Size = 1\n",
        "\n",
        "\n",
        "Mini-Batch Gradient Descent. 1 < Batch Size < Size of Training Set"
      ]
    },
    {
      "cell_type": "markdown",
      "metadata": {
        "id": "tMqwRy0fRV8I",
        "colab_type": "text"
      },
      "source": [
        "The batch size is a hyperparameter that defines the number of samples to work through before updating the internal model parameters.\n",
        "\n",
        "When all training samples are used to create one batch, the learning algorithm is called batch gradient descent. When the batch is the size of one sample, the learning algorithm is called stochastic gradient descent. When the batch size is more than one sample and less than the size of the training dataset, the learning algorithm is called mini-batch gradient descent.\n",
        "\n",
        "\n",
        "The number of epochs is a hyperparameter that defines the number times that the learning algorithm will work through the entire training dataset.\n",
        "\n",
        "\n",
        "The batch size is a number of samples processed before the model is updated.\n",
        "\n",
        "The number of epochs is the number of complete passes through the training dataset."
      ]
    },
    {
      "cell_type": "markdown",
      "metadata": {
        "id": "36vMCaI6Z5ts",
        "colab_type": "text"
      },
      "source": [
        "# References\n",
        "\n",
        "Francois, C. (2017). Deep learning with Python.\n",
        "\n",
        "\n",
        "![The book](https://twitter.com/Bengisunz/status/1163044985341657088?s=20)"
      ]
    }
  ]
}